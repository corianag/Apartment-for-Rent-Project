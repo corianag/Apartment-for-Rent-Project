{
 "cells": [
  {
   "cell_type": "markdown",
   "id": "5bd67464",
   "metadata": {},
   "source": [
    "#Importing data and libraries"
   ]
  },
  {
   "cell_type": "code",
   "execution_count": 1,
   "id": "eacadaba",
   "metadata": {},
   "outputs": [],
   "source": [
    "import pandas as pd\n",
    "import numpy as np\n",
    "import os\n",
    "import seaborn as sns\n",
    "import matplotlib.pyplot as plt\n",
    "import matplotlib\n",
    "import sklearn\n",
    "\n",
    "\n",
    "from sklearn.model_selection import train_test_split \n",
    "from sklearn.linear_model import LinearRegression\n",
    "from sklearn.metrics import mean_squared_error, r2_score"
   ]
  },
  {
   "cell_type": "code",
   "execution_count": 2,
   "id": "632d7a7c",
   "metadata": {},
   "outputs": [],
   "source": [
    "# This option ensures that the graphs you create are displayed within the notebook without the need to \"call\" them specifically.\n",
    "\n",
    "%matplotlib inline"
   ]
  },
  {
   "cell_type": "code",
   "execution_count": 3,
   "id": "bea46c8a",
   "metadata": {},
   "outputs": [],
   "source": [
    "#Set path\n",
    "path = r'/Users/corinagugulus/Achievement 6/'"
   ]
  },
  {
   "cell_type": "code",
   "execution_count": 4,
   "id": "ef40f58d",
   "metadata": {},
   "outputs": [],
   "source": [
    "# Import the df_profile data\n",
    "\n",
    "df = pd.read_csv(os.path.join(path, 'Prepared Data','df_profile.csv'), index_col = False, low_memory = False)"
   ]
  },
  {
   "cell_type": "markdown",
   "id": "b31ac089",
   "metadata": {},
   "source": [
    "#Data Cleaning"
   ]
  },
  {
   "cell_type": "code",
   "execution_count": 5,
   "id": "d3aec0dc",
   "metadata": {},
   "outputs": [
    {
     "data": {
      "text/plain": [
       "Index(['ID_Python', 'ID', 'Amenities', 'Bathrooms', 'Bedrooms', 'Currency',\n",
       "       'Fee', 'Has_Photo', 'Pets_Allowed', 'Price', 'Price_Display',\n",
       "       'Price_Type', 'Square_Feet', 'Address', 'Cityname', 'State', 'Latitude',\n",
       "       'Longitude', 'Source', 'Time'],\n",
       "      dtype='object')"
      ]
     },
     "execution_count": 5,
     "metadata": {},
     "output_type": "execute_result"
    }
   ],
   "source": [
    "df.columns"
   ]
  },
  {
   "cell_type": "code",
   "execution_count": 6,
   "id": "80bb01a2",
   "metadata": {},
   "outputs": [],
   "source": [
    "#Dropping ID, Currency, Price_Display, Price_Type, Address, Time columns because they are not needed for analysis\n",
    "df.drop(['ID_Python','ID','Currency', 'Price_Display', 'Price_Type', 'Address', 'Time', 'Cityname'], axis = 1, inplace = True)"
   ]
  },
  {
   "cell_type": "code",
   "execution_count": 7,
   "id": "d69e40e6",
   "metadata": {},
   "outputs": [
    {
     "data": {
      "text/plain": [
       "Index(['Amenities', 'Bathrooms', 'Bedrooms', 'Fee', 'Has_Photo',\n",
       "       'Pets_Allowed', 'Price', 'Square_Feet', 'State', 'Latitude',\n",
       "       'Longitude', 'Source'],\n",
       "      dtype='object')"
      ]
     },
     "execution_count": 7,
     "metadata": {},
     "output_type": "execute_result"
    }
   ],
   "source": [
    "df.columns"
   ]
  },
  {
   "cell_type": "code",
   "execution_count": 8,
   "id": "f31c77c3",
   "metadata": {},
   "outputs": [
    {
     "data": {
      "text/html": [
       "<div>\n",
       "<style scoped>\n",
       "    .dataframe tbody tr th:only-of-type {\n",
       "        vertical-align: middle;\n",
       "    }\n",
       "\n",
       "    .dataframe tbody tr th {\n",
       "        vertical-align: top;\n",
       "    }\n",
       "\n",
       "    .dataframe thead th {\n",
       "        text-align: right;\n",
       "    }\n",
       "</style>\n",
       "<table border=\"1\" class=\"dataframe\">\n",
       "  <thead>\n",
       "    <tr style=\"text-align: right;\">\n",
       "      <th></th>\n",
       "      <th>Amenities</th>\n",
       "      <th>Bathrooms</th>\n",
       "      <th>Bedrooms</th>\n",
       "      <th>Fee</th>\n",
       "      <th>Has_Photo</th>\n",
       "      <th>Pets_Allowed</th>\n",
       "      <th>Price</th>\n",
       "      <th>Square_Feet</th>\n",
       "      <th>State</th>\n",
       "      <th>Latitude</th>\n",
       "      <th>Longitude</th>\n",
       "      <th>Source</th>\n",
       "    </tr>\n",
       "  </thead>\n",
       "  <tbody>\n",
       "    <tr>\n",
       "      <th>0</th>\n",
       "      <td>Garbage Disposal Pool</td>\n",
       "      <td>2</td>\n",
       "      <td>0</td>\n",
       "      <td>NaN</td>\n",
       "      <td>Thumbnail</td>\n",
       "      <td>NaN</td>\n",
       "      <td>1</td>\n",
       "      <td>0</td>\n",
       "      <td>NaN</td>\n",
       "      <td>NaN</td>\n",
       "      <td>NaN</td>\n",
       "      <td>NaN</td>\n",
       "    </tr>\n",
       "    <tr>\n",
       "      <th>1</th>\n",
       "      <td>please do not ask On site full service propert...</td>\n",
       "      <td>2</td>\n",
       "      <td>0</td>\n",
       "      <td>NaN</td>\n",
       "      <td>Yes</td>\n",
       "      <td>NaN</td>\n",
       "      <td>1</td>\n",
       "      <td>0</td>\n",
       "      <td>NaN</td>\n",
       "      <td>NaN</td>\n",
       "      <td>NaN</td>\n",
       "      <td>NaN</td>\n",
       "    </tr>\n",
       "    <tr>\n",
       "      <th>2</th>\n",
       "      <td>one bathrooms on 1 1/2 floors. The loft bedroo...</td>\n",
       "      <td>1</td>\n",
       "      <td>0</td>\n",
       "      <td>NaN</td>\n",
       "      <td>No</td>\n",
       "      <td>NaN</td>\n",
       "      <td>1</td>\n",
       "      <td>0</td>\n",
       "      <td>NaN</td>\n",
       "      <td>NaN</td>\n",
       "      <td>NaN</td>\n",
       "      <td>NaN</td>\n",
       "    </tr>\n",
       "    <tr>\n",
       "      <th>3</th>\n",
       "      <td>ParkingPool</td>\n",
       "      <td>1</td>\n",
       "      <td>0</td>\n",
       "      <td>NaN</td>\n",
       "      <td>No</td>\n",
       "      <td>NaN</td>\n",
       "      <td>1</td>\n",
       "      <td>0</td>\n",
       "      <td>NaN</td>\n",
       "      <td>NaN</td>\n",
       "      <td>NaN</td>\n",
       "      <td>NaN</td>\n",
       "    </tr>\n",
       "    <tr>\n",
       "      <th>4</th>\n",
       "      <td>Two BR One BA;Rare find beautiful update 2BD/o...</td>\n",
       "      <td>1</td>\n",
       "      <td>2</td>\n",
       "      <td>NaN</td>\n",
       "      <td>Yes</td>\n",
       "      <td>NaN</td>\n",
       "      <td>1</td>\n",
       "      <td>0</td>\n",
       "      <td>NaN</td>\n",
       "      <td>NaN</td>\n",
       "      <td>NaN</td>\n",
       "      <td>NaN</td>\n",
       "    </tr>\n",
       "    <tr>\n",
       "      <th>5</th>\n",
       "      <td>Natural Gas. Cooling: Central Air.;ACWasher Dryer</td>\n",
       "      <td>1</td>\n",
       "      <td>0</td>\n",
       "      <td>NaN</td>\n",
       "      <td>Yes</td>\n",
       "      <td>NaN</td>\n",
       "      <td>1</td>\n",
       "      <td>0</td>\n",
       "      <td>NaN</td>\n",
       "      <td>NaN</td>\n",
       "      <td>NaN</td>\n",
       "      <td>NaN</td>\n",
       "    </tr>\n",
       "    <tr>\n",
       "      <th>6</th>\n",
       "      <td>laundry machines and being so conveniently loc...</td>\n",
       "      <td>2</td>\n",
       "      <td>0</td>\n",
       "      <td>NaN</td>\n",
       "      <td>No</td>\n",
       "      <td>NaN</td>\n",
       "      <td>1</td>\n",
       "      <td>0</td>\n",
       "      <td>NaN</td>\n",
       "      <td>NaN</td>\n",
       "      <td>NaN</td>\n",
       "      <td>NaN</td>\n",
       "    </tr>\n",
       "    <tr>\n",
       "      <th>7</th>\n",
       "      <td>beautiful 2 beds unit on the 3rd floor in a mu...</td>\n",
       "      <td>2</td>\n",
       "      <td>0</td>\n",
       "      <td>NaN</td>\n",
       "      <td>Yes</td>\n",
       "      <td>NaN</td>\n",
       "      <td>1</td>\n",
       "      <td>0</td>\n",
       "      <td>NaN</td>\n",
       "      <td>NaN</td>\n",
       "      <td>NaN</td>\n",
       "      <td>NaN</td>\n",
       "    </tr>\n",
       "    <tr>\n",
       "      <th>8</th>\n",
       "      <td>Wall A/C Parking: Carport Parking for 1 Rent: ...</td>\n",
       "      <td>1</td>\n",
       "      <td>0</td>\n",
       "      <td>NaN</td>\n",
       "      <td>No</td>\n",
       "      <td>NaN</td>\n",
       "      <td>1</td>\n",
       "      <td>0</td>\n",
       "      <td>NaN</td>\n",
       "      <td>NaN</td>\n",
       "      <td>NaN</td>\n",
       "      <td>NaN</td>\n",
       "    </tr>\n",
       "    <tr>\n",
       "      <th>9</th>\n",
       "      <td>Coral Gables and the greater Miami Area. Prope...</td>\n",
       "      <td>2</td>\n",
       "      <td>0</td>\n",
       "      <td>NaN</td>\n",
       "      <td>Yes</td>\n",
       "      <td>NaN</td>\n",
       "      <td>1</td>\n",
       "      <td>0</td>\n",
       "      <td>NaN</td>\n",
       "      <td>NaN</td>\n",
       "      <td>NaN</td>\n",
       "      <td>NaN</td>\n",
       "    </tr>\n",
       "    <tr>\n",
       "      <th>10</th>\n",
       "      <td>2 and three Beds apartment homes with spacious...</td>\n",
       "      <td>2</td>\n",
       "      <td>0</td>\n",
       "      <td>NaN</td>\n",
       "      <td>Thumbnail</td>\n",
       "      <td>NaN</td>\n",
       "      <td>1</td>\n",
       "      <td>0</td>\n",
       "      <td>NaN</td>\n",
       "      <td>NaN</td>\n",
       "      <td>NaN</td>\n",
       "      <td>NaN</td>\n",
       "    </tr>\n",
       "    <tr>\n",
       "      <th>11</th>\n",
       "      <td>ParkingStorage</td>\n",
       "      <td>2</td>\n",
       "      <td>0</td>\n",
       "      <td>NaN</td>\n",
       "      <td>Yes</td>\n",
       "      <td>NaN</td>\n",
       "      <td>1</td>\n",
       "      <td>0</td>\n",
       "      <td>NaN</td>\n",
       "      <td>NaN</td>\n",
       "      <td>NaN</td>\n",
       "      <td>NaN</td>\n",
       "    </tr>\n",
       "    <tr>\n",
       "      <th>12</th>\n",
       "      <td>with storage and laundry connections. Minutes ...</td>\n",
       "      <td>2</td>\n",
       "      <td>0</td>\n",
       "      <td>NaN</td>\n",
       "      <td>Yes</td>\n",
       "      <td>NaN</td>\n",
       "      <td>1</td>\n",
       "      <td>0</td>\n",
       "      <td>NaN</td>\n",
       "      <td>NaN</td>\n",
       "      <td>NaN</td>\n",
       "      <td>NaN</td>\n",
       "    </tr>\n",
       "    <tr>\n",
       "      <th>13</th>\n",
       "      <td>ParkingPatio/Deck</td>\n",
       "      <td>2</td>\n",
       "      <td>0</td>\n",
       "      <td>NaN</td>\n",
       "      <td>Yes</td>\n",
       "      <td>NaN</td>\n",
       "      <td>1</td>\n",
       "      <td>0</td>\n",
       "      <td>NaN</td>\n",
       "      <td>NaN</td>\n",
       "      <td>NaN</td>\n",
       "      <td>NaN</td>\n",
       "    </tr>\n",
       "    <tr>\n",
       "      <th>14</th>\n",
       "      <td>Patio/DeckRefrigerator</td>\n",
       "      <td>2</td>\n",
       "      <td>0</td>\n",
       "      <td>NaN</td>\n",
       "      <td>No</td>\n",
       "      <td>NaN</td>\n",
       "      <td>1</td>\n",
       "      <td>0</td>\n",
       "      <td>NaN</td>\n",
       "      <td>NaN</td>\n",
       "      <td>NaN</td>\n",
       "      <td>NaN</td>\n",
       "    </tr>\n",
       "    <tr>\n",
       "      <th>15</th>\n",
       "      <td>152 sq. ft. - ready to move in.;Large two beds...</td>\n",
       "      <td>2</td>\n",
       "      <td>0</td>\n",
       "      <td>NaN</td>\n",
       "      <td>Yes</td>\n",
       "      <td>NaN</td>\n",
       "      <td>1</td>\n",
       "      <td>0</td>\n",
       "      <td>NaN</td>\n",
       "      <td>NaN</td>\n",
       "      <td>NaN</td>\n",
       "      <td>NaN</td>\n",
       "    </tr>\n",
       "    <tr>\n",
       "      <th>16</th>\n",
       "      <td>ParkingPatio/Deck</td>\n",
       "      <td>2</td>\n",
       "      <td>0</td>\n",
       "      <td>NaN</td>\n",
       "      <td>Yes</td>\n",
       "      <td>NaN</td>\n",
       "      <td>1</td>\n",
       "      <td>0</td>\n",
       "      <td>NaN</td>\n",
       "      <td>NaN</td>\n",
       "      <td>NaN</td>\n",
       "      <td>NaN</td>\n",
       "    </tr>\n",
       "    <tr>\n",
       "      <th>17</th>\n",
       "      <td>and Park. Contemporary kitchen with granite co...</td>\n",
       "      <td>2</td>\n",
       "      <td>0</td>\n",
       "      <td>NaN</td>\n",
       "      <td>Yes</td>\n",
       "      <td>NaN</td>\n",
       "      <td>1</td>\n",
       "      <td>0</td>\n",
       "      <td>NaN</td>\n",
       "      <td>NaN</td>\n",
       "      <td>NaN</td>\n",
       "      <td>NaN</td>\n",
       "    </tr>\n",
       "    <tr>\n",
       "      <th>18</th>\n",
       "      <td>Three BR 1.50 BA;Attention! Well-maintained ho...</td>\n",
       "      <td>3</td>\n",
       "      <td>0</td>\n",
       "      <td>NaN</td>\n",
       "      <td>Yes</td>\n",
       "      <td>NaN</td>\n",
       "      <td>1</td>\n",
       "      <td>0</td>\n",
       "      <td>NaN</td>\n",
       "      <td>NaN</td>\n",
       "      <td>NaN</td>\n",
       "      <td>NaN</td>\n",
       "    </tr>\n",
       "    <tr>\n",
       "      <th>19</th>\n",
       "      <td>Garbage Disposal Pool</td>\n",
       "      <td>3</td>\n",
       "      <td>0</td>\n",
       "      <td>NaN</td>\n",
       "      <td>Thumbnail</td>\n",
       "      <td>NaN</td>\n",
       "      <td>1</td>\n",
       "      <td>0</td>\n",
       "      <td>NaN</td>\n",
       "      <td>NaN</td>\n",
       "      <td>NaN</td>\n",
       "      <td>NaN</td>\n",
       "    </tr>\n",
       "  </tbody>\n",
       "</table>\n",
       "</div>"
      ],
      "text/plain": [
       "                                            Amenities  Bathrooms  Bedrooms   \n",
       "0                               Garbage Disposal Pool          2         0  \\\n",
       "1   please do not ask On site full service propert...          2         0   \n",
       "2   one bathrooms on 1 1/2 floors. The loft bedroo...          1         0   \n",
       "3                                         ParkingPool          1         0   \n",
       "4   Two BR One BA;Rare find beautiful update 2BD/o...          1         2   \n",
       "5   Natural Gas. Cooling: Central Air.;ACWasher Dryer          1         0   \n",
       "6   laundry machines and being so conveniently loc...          2         0   \n",
       "7   beautiful 2 beds unit on the 3rd floor in a mu...          2         0   \n",
       "8   Wall A/C Parking: Carport Parking for 1 Rent: ...          1         0   \n",
       "9   Coral Gables and the greater Miami Area. Prope...          2         0   \n",
       "10  2 and three Beds apartment homes with spacious...          2         0   \n",
       "11                                     ParkingStorage          2         0   \n",
       "12  with storage and laundry connections. Minutes ...          2         0   \n",
       "13                                  ParkingPatio/Deck          2         0   \n",
       "14                             Patio/DeckRefrigerator          2         0   \n",
       "15  152 sq. ft. - ready to move in.;Large two beds...          2         0   \n",
       "16                                  ParkingPatio/Deck          2         0   \n",
       "17  and Park. Contemporary kitchen with granite co...          2         0   \n",
       "18  Three BR 1.50 BA;Attention! Well-maintained ho...          3         0   \n",
       "19                              Garbage Disposal Pool          3         0   \n",
       "\n",
       "    Fee  Has_Photo Pets_Allowed  Price  Square_Feet State  Latitude   \n",
       "0   NaN  Thumbnail          NaN      1            0   NaN       NaN  \\\n",
       "1   NaN        Yes          NaN      1            0   NaN       NaN   \n",
       "2   NaN         No          NaN      1            0   NaN       NaN   \n",
       "3   NaN         No          NaN      1            0   NaN       NaN   \n",
       "4   NaN        Yes          NaN      1            0   NaN       NaN   \n",
       "5   NaN        Yes          NaN      1            0   NaN       NaN   \n",
       "6   NaN         No          NaN      1            0   NaN       NaN   \n",
       "7   NaN        Yes          NaN      1            0   NaN       NaN   \n",
       "8   NaN         No          NaN      1            0   NaN       NaN   \n",
       "9   NaN        Yes          NaN      1            0   NaN       NaN   \n",
       "10  NaN  Thumbnail          NaN      1            0   NaN       NaN   \n",
       "11  NaN        Yes          NaN      1            0   NaN       NaN   \n",
       "12  NaN        Yes          NaN      1            0   NaN       NaN   \n",
       "13  NaN        Yes          NaN      1            0   NaN       NaN   \n",
       "14  NaN         No          NaN      1            0   NaN       NaN   \n",
       "15  NaN        Yes          NaN      1            0   NaN       NaN   \n",
       "16  NaN        Yes          NaN      1            0   NaN       NaN   \n",
       "17  NaN        Yes          NaN      1            0   NaN       NaN   \n",
       "18  NaN        Yes          NaN      1            0   NaN       NaN   \n",
       "19  NaN  Thumbnail          NaN      1            0   NaN       NaN   \n",
       "\n",
       "    Longitude Source  \n",
       "0         NaN    NaN  \n",
       "1         NaN    NaN  \n",
       "2         NaN    NaN  \n",
       "3         NaN    NaN  \n",
       "4         NaN    NaN  \n",
       "5         NaN    NaN  \n",
       "6         NaN    NaN  \n",
       "7         NaN    NaN  \n",
       "8         NaN    NaN  \n",
       "9         NaN    NaN  \n",
       "10        NaN    NaN  \n",
       "11        NaN    NaN  \n",
       "12        NaN    NaN  \n",
       "13        NaN    NaN  \n",
       "14        NaN    NaN  \n",
       "15        NaN    NaN  \n",
       "16        NaN    NaN  \n",
       "17        NaN    NaN  \n",
       "18        NaN    NaN  \n",
       "19        NaN    NaN  "
      ]
     },
     "execution_count": 8,
     "metadata": {},
     "output_type": "execute_result"
    }
   ],
   "source": [
    "df.head(20)"
   ]
  },
  {
   "cell_type": "code",
   "execution_count": 9,
   "id": "0e44d390",
   "metadata": {},
   "outputs": [
    {
     "data": {
      "text/plain": [
       "(99117, 12)"
      ]
     },
     "execution_count": 9,
     "metadata": {},
     "output_type": "execute_result"
    }
   ],
   "source": [
    "df.shape"
   ]
  },
  {
   "cell_type": "markdown",
   "id": "b51a2353",
   "metadata": {},
   "source": [
    "Missing Values"
   ]
  },
  {
   "cell_type": "code",
   "execution_count": 10,
   "id": "67de9360",
   "metadata": {},
   "outputs": [
    {
     "data": {
      "text/plain": [
       "Amenities         166\n",
       "Bathrooms           0\n",
       "Bedrooms            0\n",
       "Fee             94660\n",
       "Has_Photo       94258\n",
       "Pets_Allowed    96811\n",
       "Price               0\n",
       "Square_Feet         0\n",
       "State           97982\n",
       "Latitude        98814\n",
       "Longitude       97985\n",
       "Source          97992\n",
       "dtype: int64"
      ]
     },
     "execution_count": 10,
     "metadata": {},
     "output_type": "execute_result"
    }
   ],
   "source": [
    "#Check for missing values\n",
    "df.isnull().sum() "
   ]
  },
  {
   "cell_type": "markdown",
   "id": "3bb4f107",
   "metadata": {},
   "source": [
    "Addressing missing values"
   ]
  },
  {
   "cell_type": "code",
   "execution_count": 11,
   "id": "04a8231e",
   "metadata": {},
   "outputs": [],
   "source": [
    "# Create a subset, df_nan_fee, to view missing values in 'Fee' column\n",
    "df_nan_fee = df[df['Fee'].isnull() == True]"
   ]
  },
  {
   "cell_type": "code",
   "execution_count": 12,
   "id": "9f9328ce",
   "metadata": {},
   "outputs": [],
   "source": [
    "#Create subset without missing 'fee' value\n",
    "df_F = df[df['Fee'].isnull() == False]"
   ]
  },
  {
   "cell_type": "code",
   "execution_count": 13,
   "id": "cf3e0918",
   "metadata": {},
   "outputs": [
    {
     "data": {
      "text/html": [
       "<div>\n",
       "<style scoped>\n",
       "    .dataframe tbody tr th:only-of-type {\n",
       "        vertical-align: middle;\n",
       "    }\n",
       "\n",
       "    .dataframe tbody tr th {\n",
       "        vertical-align: top;\n",
       "    }\n",
       "\n",
       "    .dataframe thead th {\n",
       "        text-align: right;\n",
       "    }\n",
       "</style>\n",
       "<table border=\"1\" class=\"dataframe\">\n",
       "  <thead>\n",
       "    <tr style=\"text-align: right;\">\n",
       "      <th></th>\n",
       "      <th>Amenities</th>\n",
       "      <th>Bathrooms</th>\n",
       "      <th>Bedrooms</th>\n",
       "      <th>Fee</th>\n",
       "      <th>Has_Photo</th>\n",
       "      <th>Pets_Allowed</th>\n",
       "      <th>Price</th>\n",
       "      <th>Square_Feet</th>\n",
       "      <th>State</th>\n",
       "      <th>Latitude</th>\n",
       "      <th>Longitude</th>\n",
       "      <th>Source</th>\n",
       "    </tr>\n",
       "  </thead>\n",
       "  <tbody>\n",
       "    <tr>\n",
       "      <th>56</th>\n",
       "      <td>Mount Airy21771</td>\n",
       "      <td>1</td>\n",
       "      <td>1</td>\n",
       "      <td>No</td>\n",
       "      <td>Thumbnail</td>\n",
       "      <td>NaN</td>\n",
       "      <td>200</td>\n",
       "      <td>250</td>\n",
       "      <td>Maryland</td>\n",
       "      <td>39.39</td>\n",
       "      <td>-77.15</td>\n",
       "      <td>RentLingo</td>\n",
       "    </tr>\n",
       "    <tr>\n",
       "      <th>57</th>\n",
       "      <td>One BA safe neighborhood;20 x 40 Storage Unit ...</td>\n",
       "      <td>1</td>\n",
       "      <td>0</td>\n",
       "      <td>No</td>\n",
       "      <td>Yes</td>\n",
       "      <td>NaN</td>\n",
       "      <td>200</td>\n",
       "      <td>800</td>\n",
       "      <td>Arkansas</td>\n",
       "      <td>35.28</td>\n",
       "      <td>-93.14</td>\n",
       "      <td>RentDigs.com</td>\n",
       "    </tr>\n",
       "    <tr>\n",
       "      <th>60</th>\n",
       "      <td>One time $75 Dogs - one allowed Max weight 80 ...</td>\n",
       "      <td>1</td>\n",
       "      <td>2</td>\n",
       "      <td>No</td>\n",
       "      <td>Yes</td>\n",
       "      <td>NaN</td>\n",
       "      <td>313</td>\n",
       "      <td>880</td>\n",
       "      <td>Colorado</td>\n",
       "      <td>NaN</td>\n",
       "      <td>-104.82</td>\n",
       "      <td>RentDigs.com</td>\n",
       "    </tr>\n",
       "    <tr>\n",
       "      <th>61</th>\n",
       "      <td>One BA;CUTE LITTLE 1 BEDs / 1 BATHROOMs UPSTAI...</td>\n",
       "      <td>1</td>\n",
       "      <td>1</td>\n",
       "      <td>No</td>\n",
       "      <td>No</td>\n",
       "      <td>NaN</td>\n",
       "      <td>350</td>\n",
       "      <td>600</td>\n",
       "      <td>Arkansas</td>\n",
       "      <td>NaN</td>\n",
       "      <td>-92.26</td>\n",
       "      <td>RentDigs.com</td>\n",
       "    </tr>\n",
       "    <tr>\n",
       "      <th>62</th>\n",
       "      <td>bright gas stove</td>\n",
       "      <td>1</td>\n",
       "      <td>0</td>\n",
       "      <td>No</td>\n",
       "      <td>Yes</td>\n",
       "      <td>NaN</td>\n",
       "      <td>375</td>\n",
       "      <td>400</td>\n",
       "      <td>Ohio</td>\n",
       "      <td>NaN</td>\n",
       "      <td>-84.57</td>\n",
       "      <td>RentDigs.com</td>\n",
       "    </tr>\n",
       "    <tr>\n",
       "      <th>...</th>\n",
       "      <td>...</td>\n",
       "      <td>...</td>\n",
       "      <td>...</td>\n",
       "      <td>...</td>\n",
       "      <td>...</td>\n",
       "      <td>...</td>\n",
       "      <td>...</td>\n",
       "      <td>...</td>\n",
       "      <td>...</td>\n",
       "      <td>...</td>\n",
       "      <td>...</td>\n",
       "      <td>...</td>\n",
       "    </tr>\n",
       "    <tr>\n",
       "      <th>7934</th>\n",
       "      <td>washer-dryer hook ups appliances</td>\n",
       "      <td>2</td>\n",
       "      <td>3</td>\n",
       "      <td>No</td>\n",
       "      <td>Yes</td>\n",
       "      <td>Cats</td>\n",
       "      <td>0</td>\n",
       "      <td>0</td>\n",
       "      <td>NaN</td>\n",
       "      <td>NaN</td>\n",
       "      <td>NaN</td>\n",
       "      <td>NaN</td>\n",
       "    </tr>\n",
       "    <tr>\n",
       "      <th>7963</th>\n",
       "      <td>Two BA Loft: Herndon VA 20171;Where elegance m...</td>\n",
       "      <td>2</td>\n",
       "      <td>2</td>\n",
       "      <td>No</td>\n",
       "      <td>Thumbnail</td>\n",
       "      <td>Cats</td>\n",
       "      <td>0</td>\n",
       "      <td>0</td>\n",
       "      <td>NaN</td>\n",
       "      <td>NaN</td>\n",
       "      <td>NaN</td>\n",
       "      <td>NaN</td>\n",
       "    </tr>\n",
       "    <tr>\n",
       "      <th>7965</th>\n",
       "      <td>Four BR One BA for rent. Dog OK!;Freshly Renov...</td>\n",
       "      <td>1</td>\n",
       "      <td>4</td>\n",
       "      <td>No</td>\n",
       "      <td>Yes</td>\n",
       "      <td>Cats</td>\n",
       "      <td>0</td>\n",
       "      <td>0</td>\n",
       "      <td>NaN</td>\n",
       "      <td>NaN</td>\n",
       "      <td>NaN</td>\n",
       "      <td>NaN</td>\n",
       "    </tr>\n",
       "    <tr>\n",
       "      <th>7966</th>\n",
       "      <td>550/mo + $50/mo pet rent second Ave Lofts &amp;#38...</td>\n",
       "      <td>1</td>\n",
       "      <td>1</td>\n",
       "      <td>No</td>\n",
       "      <td>Thumbnail</td>\n",
       "      <td>Cats</td>\n",
       "      <td>0</td>\n",
       "      <td>0</td>\n",
       "      <td>NaN</td>\n",
       "      <td>NaN</td>\n",
       "      <td>NaN</td>\n",
       "      <td>NaN</td>\n",
       "    </tr>\n",
       "    <tr>\n",
       "      <th>7967</th>\n",
       "      <td>1.50 BA for rent. Pet OK!;Nice home with 3 bed...</td>\n",
       "      <td>2</td>\n",
       "      <td>3</td>\n",
       "      <td>No</td>\n",
       "      <td>Yes</td>\n",
       "      <td>Cats</td>\n",
       "      <td>0</td>\n",
       "      <td>0</td>\n",
       "      <td>NaN</td>\n",
       "      <td>NaN</td>\n",
       "      <td>NaN</td>\n",
       "      <td>NaN</td>\n",
       "    </tr>\n",
       "  </tbody>\n",
       "</table>\n",
       "<p>4457 rows × 12 columns</p>\n",
       "</div>"
      ],
      "text/plain": [
       "                                              Amenities  Bathrooms  Bedrooms   \n",
       "56                                      Mount Airy21771          1         1  \\\n",
       "57    One BA safe neighborhood;20 x 40 Storage Unit ...          1         0   \n",
       "60    One time $75 Dogs - one allowed Max weight 80 ...          1         2   \n",
       "61    One BA;CUTE LITTLE 1 BEDs / 1 BATHROOMs UPSTAI...          1         1   \n",
       "62                                     bright gas stove          1         0   \n",
       "...                                                 ...        ...       ...   \n",
       "7934                   washer-dryer hook ups appliances          2         3   \n",
       "7963  Two BA Loft: Herndon VA 20171;Where elegance m...          2         2   \n",
       "7965  Four BR One BA for rent. Dog OK!;Freshly Renov...          1         4   \n",
       "7966  550/mo + $50/mo pet rent second Ave Lofts &#38...          1         1   \n",
       "7967  1.50 BA for rent. Pet OK!;Nice home with 3 bed...          2         3   \n",
       "\n",
       "     Fee  Has_Photo Pets_Allowed  Price  Square_Feet     State  Latitude   \n",
       "56    No  Thumbnail          NaN    200          250  Maryland     39.39  \\\n",
       "57    No        Yes          NaN    200          800  Arkansas     35.28   \n",
       "60    No        Yes          NaN    313          880  Colorado       NaN   \n",
       "61    No         No          NaN    350          600  Arkansas       NaN   \n",
       "62    No        Yes          NaN    375          400      Ohio       NaN   \n",
       "...   ..        ...          ...    ...          ...       ...       ...   \n",
       "7934  No        Yes         Cats      0            0       NaN       NaN   \n",
       "7963  No  Thumbnail         Cats      0            0       NaN       NaN   \n",
       "7965  No        Yes         Cats      0            0       NaN       NaN   \n",
       "7966  No  Thumbnail         Cats      0            0       NaN       NaN   \n",
       "7967  No        Yes         Cats      0            0       NaN       NaN   \n",
       "\n",
       "      Longitude        Source  \n",
       "56       -77.15     RentLingo  \n",
       "57       -93.14  RentDigs.com  \n",
       "60      -104.82  RentDigs.com  \n",
       "61       -92.26  RentDigs.com  \n",
       "62       -84.57  RentDigs.com  \n",
       "...         ...           ...  \n",
       "7934        NaN           NaN  \n",
       "7963        NaN           NaN  \n",
       "7965        NaN           NaN  \n",
       "7966        NaN           NaN  \n",
       "7967        NaN           NaN  \n",
       "\n",
       "[4457 rows x 12 columns]"
      ]
     },
     "execution_count": 13,
     "metadata": {},
     "output_type": "execute_result"
    }
   ],
   "source": [
    "df_F"
   ]
  },
  {
   "cell_type": "code",
   "execution_count": 14,
   "id": "c1525ebc",
   "metadata": {},
   "outputs": [],
   "source": [
    "# Create a subset, df_nan_State, to view missing values in 'name' column\n",
    "df_s = df_F[df_F['State'].isnull() == True]"
   ]
  },
  {
   "cell_type": "code",
   "execution_count": 15,
   "id": "b1040497",
   "metadata": {},
   "outputs": [],
   "source": [
    "#Create subset without missing 'state' values\n",
    "df_state = df_F[df_F['State'].isnull() == False]"
   ]
  },
  {
   "cell_type": "code",
   "execution_count": 16,
   "id": "b5cc92cc",
   "metadata": {},
   "outputs": [],
   "source": [
    "# Create a subset, df_nan_Pets, to view missing values in 'Pets_Allowed' column\n",
    "df_p = df_state[df_state['Pets_Allowed'].isnull() == True]"
   ]
  },
  {
   "cell_type": "code",
   "execution_count": 17,
   "id": "79999547",
   "metadata": {},
   "outputs": [],
   "source": [
    "#Create subset without missing 'Pets_Allowed' values\n",
    "df_Pets = df_state[df_state['Pets_Allowed'].isnull() == False]"
   ]
  },
  {
   "cell_type": "code",
   "execution_count": 18,
   "id": "ffd983d2",
   "metadata": {},
   "outputs": [],
   "source": [
    "df_profile_pr = df_Pets"
   ]
  },
  {
   "cell_type": "code",
   "execution_count": 19,
   "id": "d1632d87",
   "metadata": {},
   "outputs": [
    {
     "data": {
      "text/plain": [
       "Amenities        0\n",
       "Bathrooms        0\n",
       "Bedrooms         0\n",
       "Fee              0\n",
       "Has_Photo        0\n",
       "Pets_Allowed     0\n",
       "Price            0\n",
       "Square_Feet      0\n",
       "State            0\n",
       "Latitude        65\n",
       "Longitude        0\n",
       "Source           0\n",
       "dtype: int64"
      ]
     },
     "execution_count": 19,
     "metadata": {},
     "output_type": "execute_result"
    }
   ],
   "source": [
    "#Checking for NaN\n",
    "df_profile_pr.isnull().sum()"
   ]
  },
  {
   "cell_type": "code",
   "execution_count": 32,
   "id": "7722eb17",
   "metadata": {},
   "outputs": [
    {
     "name": "stderr",
     "output_type": "stream",
     "text": [
      "/var/folders/7l/v6xh6dn569ggk_lvnn8q6_q40000gn/T/ipykernel_75035/3138659636.py:2: SettingWithCopyWarning: \n",
      "A value is trying to be set on a copy of a slice from a DataFrame\n",
      "\n",
      "See the caveats in the documentation: https://pandas.pydata.org/pandas-docs/stable/user_guide/indexing.html#returning-a-view-versus-a-copy\n",
      "  df_profile_pr.drop(['Latitude', 'Longitude'], axis = 1, inplace = True)\n"
     ]
    }
   ],
   "source": [
    "#Dropping Latitude and Longitude columns because they are not needed for analysis\n",
    "df_profile_pr.drop(['Latitude', 'Longitude'], axis = 1, inplace = True)"
   ]
  },
  {
   "cell_type": "code",
   "execution_count": 20,
   "id": "d4f69bd9",
   "metadata": {},
   "outputs": [
    {
     "data": {
      "text/html": [
       "<div>\n",
       "<style scoped>\n",
       "    .dataframe tbody tr th:only-of-type {\n",
       "        vertical-align: middle;\n",
       "    }\n",
       "\n",
       "    .dataframe tbody tr th {\n",
       "        vertical-align: top;\n",
       "    }\n",
       "\n",
       "    .dataframe thead th {\n",
       "        text-align: right;\n",
       "    }\n",
       "</style>\n",
       "<table border=\"1\" class=\"dataframe\">\n",
       "  <thead>\n",
       "    <tr style=\"text-align: right;\">\n",
       "      <th></th>\n",
       "      <th>Amenities</th>\n",
       "      <th>Bathrooms</th>\n",
       "      <th>Bedrooms</th>\n",
       "      <th>Fee</th>\n",
       "      <th>Has_Photo</th>\n",
       "      <th>Pets_Allowed</th>\n",
       "      <th>Price</th>\n",
       "      <th>Square_Feet</th>\n",
       "      <th>State</th>\n",
       "      <th>Latitude</th>\n",
       "      <th>Longitude</th>\n",
       "      <th>Source</th>\n",
       "    </tr>\n",
       "  </thead>\n",
       "  <tbody>\n",
       "    <tr>\n",
       "      <th>91</th>\n",
       "      <td>offering the simple expected comforts of spaci...</td>\n",
       "      <td>1</td>\n",
       "      <td>1</td>\n",
       "      <td>No</td>\n",
       "      <td>Yes</td>\n",
       "      <td>Cats</td>\n",
       "      <td>475</td>\n",
       "      <td>558</td>\n",
       "      <td>Ohio</td>\n",
       "      <td>NaN</td>\n",
       "      <td>-84.20</td>\n",
       "      <td>RentDigs.com</td>\n",
       "    </tr>\n",
       "    <tr>\n",
       "      <th>128</th>\n",
       "      <td>lots of closet space eat in kitchens with on s...</td>\n",
       "      <td>1</td>\n",
       "      <td>1</td>\n",
       "      <td>No</td>\n",
       "      <td>Yes</td>\n",
       "      <td>Cats</td>\n",
       "      <td>525</td>\n",
       "      <td>530</td>\n",
       "      <td>Iowa</td>\n",
       "      <td>NaN</td>\n",
       "      <td>-91.67</td>\n",
       "      <td>RentDigs.com</td>\n",
       "    </tr>\n",
       "    <tr>\n",
       "      <th>145</th>\n",
       "      <td>on site washer / dryer area in the basement. C...</td>\n",
       "      <td>1</td>\n",
       "      <td>0</td>\n",
       "      <td>No</td>\n",
       "      <td>Thumbnail</td>\n",
       "      <td>Cats</td>\n",
       "      <td>550</td>\n",
       "      <td>402</td>\n",
       "      <td>North Carolina</td>\n",
       "      <td>NaN</td>\n",
       "      <td>-79.77</td>\n",
       "      <td>RentDigs.com</td>\n",
       "    </tr>\n",
       "    <tr>\n",
       "      <th>166</th>\n",
       "      <td>Church Hill37642</td>\n",
       "      <td>1</td>\n",
       "      <td>1</td>\n",
       "      <td>No</td>\n",
       "      <td>Thumbnail</td>\n",
       "      <td>Cats</td>\n",
       "      <td>575</td>\n",
       "      <td>680</td>\n",
       "      <td>Tennessee</td>\n",
       "      <td>NaN</td>\n",
       "      <td>-82.70</td>\n",
       "      <td>RentLingo</td>\n",
       "    </tr>\n",
       "    <tr>\n",
       "      <th>175</th>\n",
       "      <td>bright gas stove</td>\n",
       "      <td>1</td>\n",
       "      <td>1</td>\n",
       "      <td>No</td>\n",
       "      <td>Thumbnail</td>\n",
       "      <td>Cats</td>\n",
       "      <td>575</td>\n",
       "      <td>650</td>\n",
       "      <td>Nebraska</td>\n",
       "      <td>NaN</td>\n",
       "      <td>-96.05</td>\n",
       "      <td>RentDigs.com</td>\n",
       "    </tr>\n",
       "    <tr>\n",
       "      <th>...</th>\n",
       "      <td>...</td>\n",
       "      <td>...</td>\n",
       "      <td>...</td>\n",
       "      <td>...</td>\n",
       "      <td>...</td>\n",
       "      <td>...</td>\n",
       "      <td>...</td>\n",
       "      <td>...</td>\n",
       "      <td>...</td>\n",
       "      <td>...</td>\n",
       "      <td>...</td>\n",
       "      <td>...</td>\n",
       "    </tr>\n",
       "    <tr>\n",
       "      <th>1108</th>\n",
       "      <td>Austin78703</td>\n",
       "      <td>1</td>\n",
       "      <td>0</td>\n",
       "      <td>No</td>\n",
       "      <td>Thumbnail</td>\n",
       "      <td>Cats</td>\n",
       "      <td>975</td>\n",
       "      <td>400</td>\n",
       "      <td>Texas</td>\n",
       "      <td>NaN</td>\n",
       "      <td>-97.75</td>\n",
       "      <td>RentLingo</td>\n",
       "    </tr>\n",
       "    <tr>\n",
       "      <th>1114</th>\n",
       "      <td>the market average ranges from $925 to $1 370 ...</td>\n",
       "      <td>2</td>\n",
       "      <td>2</td>\n",
       "      <td>No</td>\n",
       "      <td>No</td>\n",
       "      <td>Cats</td>\n",
       "      <td>975</td>\n",
       "      <td>1080</td>\n",
       "      <td>Virginia</td>\n",
       "      <td>NaN</td>\n",
       "      <td>-77.39</td>\n",
       "      <td>RentDigs.com</td>\n",
       "    </tr>\n",
       "    <tr>\n",
       "      <th>1128</th>\n",
       "      <td>South St. Paul55075</td>\n",
       "      <td>1</td>\n",
       "      <td>1</td>\n",
       "      <td>No</td>\n",
       "      <td>Thumbnail</td>\n",
       "      <td>Cats</td>\n",
       "      <td>979</td>\n",
       "      <td>715</td>\n",
       "      <td>Minnesota</td>\n",
       "      <td>NaN</td>\n",
       "      <td>-93.04</td>\n",
       "      <td>RentLingo</td>\n",
       "    </tr>\n",
       "    <tr>\n",
       "      <th>1156</th>\n",
       "      <td>Louisville44641</td>\n",
       "      <td>2</td>\n",
       "      <td>2</td>\n",
       "      <td>No</td>\n",
       "      <td>Thumbnail</td>\n",
       "      <td>Cats</td>\n",
       "      <td>995</td>\n",
       "      <td>1400</td>\n",
       "      <td>Ohio</td>\n",
       "      <td>40.85</td>\n",
       "      <td>-81.26</td>\n",
       "      <td>RentLingo</td>\n",
       "    </tr>\n",
       "    <tr>\n",
       "      <th>1162</th>\n",
       "      <td>Minneapolis55404</td>\n",
       "      <td>1</td>\n",
       "      <td>1</td>\n",
       "      <td>No</td>\n",
       "      <td>Thumbnail</td>\n",
       "      <td>Dogs</td>\n",
       "      <td>995</td>\n",
       "      <td>400</td>\n",
       "      <td>Minnesota</td>\n",
       "      <td>44.99</td>\n",
       "      <td>-93.30</td>\n",
       "      <td>RentLingo</td>\n",
       "    </tr>\n",
       "  </tbody>\n",
       "</table>\n",
       "<p>80 rows × 12 columns</p>\n",
       "</div>"
      ],
      "text/plain": [
       "                                              Amenities  Bathrooms  Bedrooms   \n",
       "91    offering the simple expected comforts of spaci...          1         1  \\\n",
       "128   lots of closet space eat in kitchens with on s...          1         1   \n",
       "145   on site washer / dryer area in the basement. C...          1         0   \n",
       "166                                    Church Hill37642          1         1   \n",
       "175                                    bright gas stove          1         1   \n",
       "...                                                 ...        ...       ...   \n",
       "1108                                        Austin78703          1         0   \n",
       "1114  the market average ranges from $925 to $1 370 ...          2         2   \n",
       "1128                                South St. Paul55075          1         1   \n",
       "1156                                    Louisville44641          2         2   \n",
       "1162                                   Minneapolis55404          1         1   \n",
       "\n",
       "     Fee  Has_Photo Pets_Allowed  Price  Square_Feet           State   \n",
       "91    No        Yes         Cats    475          558            Ohio  \\\n",
       "128   No        Yes         Cats    525          530            Iowa   \n",
       "145   No  Thumbnail         Cats    550          402  North Carolina   \n",
       "166   No  Thumbnail         Cats    575          680       Tennessee   \n",
       "175   No  Thumbnail         Cats    575          650        Nebraska   \n",
       "...   ..        ...          ...    ...          ...             ...   \n",
       "1108  No  Thumbnail         Cats    975          400           Texas   \n",
       "1114  No         No         Cats    975         1080        Virginia   \n",
       "1128  No  Thumbnail         Cats    979          715       Minnesota   \n",
       "1156  No  Thumbnail         Cats    995         1400            Ohio   \n",
       "1162  No  Thumbnail         Dogs    995          400       Minnesota   \n",
       "\n",
       "      Latitude  Longitude        Source  \n",
       "91         NaN     -84.20  RentDigs.com  \n",
       "128        NaN     -91.67  RentDigs.com  \n",
       "145        NaN     -79.77  RentDigs.com  \n",
       "166        NaN     -82.70     RentLingo  \n",
       "175        NaN     -96.05  RentDigs.com  \n",
       "...        ...        ...           ...  \n",
       "1108       NaN     -97.75     RentLingo  \n",
       "1114       NaN     -77.39  RentDigs.com  \n",
       "1128       NaN     -93.04     RentLingo  \n",
       "1156     40.85     -81.26     RentLingo  \n",
       "1162     44.99     -93.30     RentLingo  \n",
       "\n",
       "[80 rows x 12 columns]"
      ]
     },
     "execution_count": 20,
     "metadata": {},
     "output_type": "execute_result"
    }
   ],
   "source": [
    "df_profile_pr"
   ]
  },
  {
   "cell_type": "code",
   "execution_count": 21,
   "id": "71a058b1",
   "metadata": {},
   "outputs": [
    {
     "data": {
      "text/plain": [
       "Amenities        0\n",
       "Bathrooms        0\n",
       "Bedrooms         0\n",
       "Fee              0\n",
       "Has_Photo        0\n",
       "Pets_Allowed     0\n",
       "Price            0\n",
       "Square_Feet      0\n",
       "State            0\n",
       "Latitude        65\n",
       "Longitude        0\n",
       "Source           0\n",
       "dtype: int64"
      ]
     },
     "execution_count": 21,
     "metadata": {},
     "output_type": "execute_result"
    }
   ],
   "source": [
    "#Last Check for NaN\n",
    "df_profile_pr.isnull().sum()"
   ]
  },
  {
   "cell_type": "code",
   "execution_count": 22,
   "id": "0ac97385",
   "metadata": {},
   "outputs": [
    {
     "data": {
      "text/plain": [
       "(80, 12)"
      ]
     },
     "execution_count": 22,
     "metadata": {},
     "output_type": "execute_result"
    }
   ],
   "source": [
    "df_profile_pr.shape"
   ]
  },
  {
   "cell_type": "markdown",
   "id": "5be5c94e",
   "metadata": {},
   "source": [
    "Duplicates check"
   ]
  },
  {
   "cell_type": "code",
   "execution_count": 23,
   "id": "800b70bc",
   "metadata": {},
   "outputs": [],
   "source": [
    "dups = df_profile_pr.duplicated()"
   ]
  },
  {
   "cell_type": "code",
   "execution_count": 24,
   "id": "63833f18",
   "metadata": {},
   "outputs": [
    {
     "data": {
      "text/plain": [
       "(80,)"
      ]
     },
     "execution_count": 24,
     "metadata": {},
     "output_type": "execute_result"
    }
   ],
   "source": [
    "dups.shape # no dups"
   ]
  },
  {
   "cell_type": "markdown",
   "id": "8f3b97bf",
   "metadata": {},
   "source": [
    "Extreme values checks"
   ]
  },
  {
   "cell_type": "code",
   "execution_count": 25,
   "id": "ddd9968b",
   "metadata": {},
   "outputs": [
    {
     "name": "stderr",
     "output_type": "stream",
     "text": [
      "/var/folders/7l/v6xh6dn569ggk_lvnn8q6_q40000gn/T/ipykernel_16499/3061385095.py:1: UserWarning: \n",
      "\n",
      "`distplot` is a deprecated function and will be removed in seaborn v0.14.0.\n",
      "\n",
      "Please adapt your code to use either `displot` (a figure-level function with\n",
      "similar flexibility) or `histplot` (an axes-level function for histograms).\n",
      "\n",
      "For a guide to updating your code to use the new functions, please see\n",
      "https://gist.github.com/mwaskom/de44147ed2974457ad6372750bbe5751\n",
      "\n",
      "  sns.distplot(df_profile_pr['Price'], bins=25) # Shows extreme values\n"
     ]
    },
    {
     "data": {
      "text/plain": [
       "<Axes: xlabel='Price', ylabel='Density'>"
      ]
     },
     "execution_count": 25,
     "metadata": {},
     "output_type": "execute_result"
    },
    {
     "data": {
      "image/png": "[encoded data removed]",
      "text/plain": [
       "<Figure size 640x480 with 1 Axes>"
      ]
     },
     "metadata": {},
     "output_type": "display_data"
    }
   ],
   "source": [
    "sns.distplot(df_profile_pr['Price'], bins=25) # Shows extreme values"
   ]
  },
  {
   "cell_type": "code",
   "execution_count": 26,
   "id": "33f9365a",
   "metadata": {},
   "outputs": [
    {
     "data": {
      "text/plain": [
       "779.7875"
      ]
     },
     "execution_count": 26,
     "metadata": {},
     "output_type": "execute_result"
    }
   ],
   "source": [
    "df_profile_pr['Price'].mean() # Check the mean"
   ]
  },
  {
   "cell_type": "code",
   "execution_count": 27,
   "id": "be398be4",
   "metadata": {},
   "outputs": [
    {
     "data": {
      "text/plain": [
       "792.5"
      ]
     },
     "execution_count": 27,
     "metadata": {},
     "output_type": "execute_result"
    }
   ],
   "source": [
    "df_profile_pr['Price'].median() # Check the median"
   ]
  },
  {
   "cell_type": "code",
   "execution_count": 28,
   "id": "2f49e200",
   "metadata": {},
   "outputs": [
    {
     "data": {
      "text/plain": [
       "995"
      ]
     },
     "execution_count": 28,
     "metadata": {},
     "output_type": "execute_result"
    }
   ],
   "source": [
    "df_profile_pr['Price'].max() # Check the max"
   ]
  },
  {
   "cell_type": "markdown",
   "id": "fab06aa0",
   "metadata": {},
   "source": [
    "#Data Prep for Regression Analysis"
   ]
  },
  {
   "cell_type": "code",
   "execution_count": 29,
   "id": "0fd6c443",
   "metadata": {},
   "outputs": [
    {
     "data": {
      "image/png": "[encoded data removed]",
      "text/plain": [
       "<Figure size 640x480 with 1 Axes>"
      ]
     },
     "metadata": {},
     "output_type": "display_data"
    }
   ],
   "source": [
    "# Create a scatterplot using matplotlib for another look at how the chosen variables plot against each other.\n",
    "\n",
    "df_profile_pr.plot(x = 'Square_Feet', y='Price',style='o') # The style option creates a scatterplot; without it, we only have lines.\n",
    "plt.title('Square Feet vs Price')  \n",
    "plt.xlabel('Square Feet')  \n",
    "plt.ylabel('Price')  \n",
    "plt.show()"
   ]
  },
  {
   "cell_type": "markdown",
   "id": "f44b7c8f",
   "metadata": {},
   "source": [
    "# Hyphotesis: The bigger the size of an apartment or house is the higher the price. "
   ]
  },
  {
   "cell_type": "code",
   "execution_count": 30,
   "id": "e2fb1ecf",
   "metadata": {},
   "outputs": [],
   "source": [
    "# Reshape the variables into NumPy arrays and put them into separate objects.\n",
    "\n",
    "X = df_profile_pr['Square_Feet'].values.reshape(-1,1)\n",
    "y = df_profile_pr['Price'].values.reshape(-1,1)"
   ]
  },
  {
   "cell_type": "code",
   "execution_count": 31,
   "id": "8a754dbc",
   "metadata": {},
   "outputs": [
    {
     "data": {
      "text/plain": [
       "array([[ 558],\n",
       "       [ 530],\n",
       "       [ 402],\n",
       "       [ 680],\n",
       "       [ 650],\n",
       "       [ 882],\n",
       "       [ 410],\n",
       "       [ 410],\n",
       "       [ 700],\n",
       "       [ 560],\n",
       "       [ 660],\n",
       "       [1200],\n",
       "       [ 750],\n",
       "       [ 576],\n",
       "       [1018],\n",
       "       [ 475],\n",
       "       [ 600],\n",
       "       [ 775],\n",
       "       [ 880],\n",
       "       [ 570],\n",
       "       [ 505],\n",
       "       [ 750],\n",
       "       [ 660],\n",
       "       [ 479],\n",
       "       [ 740],\n",
       "       [ 737],\n",
       "       [1022],\n",
       "       [ 600],\n",
       "       [ 641],\n",
       "       [ 750],\n",
       "       [ 810],\n",
       "       [ 576],\n",
       "       [ 315],\n",
       "       [ 906],\n",
       "       [ 925],\n",
       "       [ 816],\n",
       "       [1000],\n",
       "       [ 240],\n",
       "       [ 780],\n",
       "       [ 611],\n",
       "       [ 600],\n",
       "       [ 700],\n",
       "       [1100],\n",
       "       [ 300],\n",
       "       [ 600],\n",
       "       [ 500],\n",
       "       [ 550],\n",
       "       [ 920],\n",
       "       [ 800],\n",
       "       [ 936],\n",
       "       [ 700],\n",
       "       [ 600],\n",
       "       [ 750],\n",
       "       [ 900],\n",
       "       [ 676],\n",
       "       [ 583],\n",
       "       [ 775],\n",
       "       [ 645],\n",
       "       [ 784],\n",
       "       [ 650],\n",
       "       [ 912],\n",
       "       [ 620],\n",
       "       [ 750],\n",
       "       [ 425],\n",
       "       [ 400],\n",
       "       [ 550],\n",
       "       [ 800],\n",
       "       [ 548],\n",
       "       [ 751],\n",
       "       [ 454],\n",
       "       [ 380],\n",
       "       [1050],\n",
       "       [ 368],\n",
       "       [1534],\n",
       "       [ 875],\n",
       "       [ 400],\n",
       "       [1080],\n",
       "       [ 715],\n",
       "       [1400],\n",
       "       [ 400]])"
      ]
     },
     "execution_count": 31,
     "metadata": {},
     "output_type": "execute_result"
    }
   ],
   "source": [
    "X"
   ]
  },
  {
   "cell_type": "code",
   "execution_count": 32,
   "id": "acf5714b",
   "metadata": {},
   "outputs": [
    {
     "data": {
      "text/plain": [
       "array([[475],\n",
       "       [525],\n",
       "       [550],\n",
       "       [575],\n",
       "       [575],\n",
       "       [585],\n",
       "       [595],\n",
       "       [595],\n",
       "       [605],\n",
       "       [625],\n",
       "       [625],\n",
       "       [625],\n",
       "       [635],\n",
       "       [640],\n",
       "       [641],\n",
       "       [645],\n",
       "       [645],\n",
       "       [650],\n",
       "       [665],\n",
       "       [670],\n",
       "       [674],\n",
       "       [675],\n",
       "       [678],\n",
       "       [687],\n",
       "       [690],\n",
       "       [695],\n",
       "       [700],\n",
       "       [700],\n",
       "       [720],\n",
       "       [725],\n",
       "       [725],\n",
       "       [725],\n",
       "       [730],\n",
       "       [730],\n",
       "       [740],\n",
       "       [745],\n",
       "       [750],\n",
       "       [775],\n",
       "       [780],\n",
       "       [790],\n",
       "       [795],\n",
       "       [795],\n",
       "       [795],\n",
       "       [795],\n",
       "       [810],\n",
       "       [819],\n",
       "       [825],\n",
       "       [826],\n",
       "       [845],\n",
       "       [850],\n",
       "       [850],\n",
       "       [850],\n",
       "       [850],\n",
       "       [850],\n",
       "       [870],\n",
       "       [875],\n",
       "       [875],\n",
       "       [880],\n",
       "       [885],\n",
       "       [890],\n",
       "       [895],\n",
       "       [899],\n",
       "       [900],\n",
       "       [925],\n",
       "       [925],\n",
       "       [925],\n",
       "       [925],\n",
       "       [935],\n",
       "       [945],\n",
       "       [950],\n",
       "       [955],\n",
       "       [960],\n",
       "       [965],\n",
       "       [975],\n",
       "       [975],\n",
       "       [975],\n",
       "       [975],\n",
       "       [979],\n",
       "       [995],\n",
       "       [995]])"
      ]
     },
     "execution_count": 32,
     "metadata": {},
     "output_type": "execute_result"
    }
   ],
   "source": [
    "y"
   ]
  },
  {
   "cell_type": "code",
   "execution_count": 33,
   "id": "f3626c79",
   "metadata": {},
   "outputs": [],
   "source": [
    "# Split data into a training set and a test set.\n",
    "\n",
    "X_train, X_test, y_train, y_test = train_test_split(X, y, test_size=0.3, random_state=0)"
   ]
  },
  {
   "cell_type": "markdown",
   "id": "d7b9a902",
   "metadata": {},
   "source": [
    "#Regression Analysis"
   ]
  },
  {
   "cell_type": "code",
   "execution_count": 34,
   "id": "997f9833",
   "metadata": {},
   "outputs": [],
   "source": [
    "# Create a regression object.\n",
    "\n",
    "regression = LinearRegression()  # This is the regression object, which will be fit onto the training set."
   ]
  },
  {
   "cell_type": "code",
   "execution_count": 35,
   "id": "da592409",
   "metadata": {},
   "outputs": [
    {
     "data": {
      "text/html": [
       "<style>#sk-container-id-1 {color: black;}#sk-container-id-1 pre{padding: 0;}#sk-container-id-1 div.sk-toggleable {background-color: white;}#sk-container-id-1 label.sk-toggleable__label {cursor: pointer;display: block;width: 100%;margin-bottom: 0;padding: 0.3em;box-sizing: border-box;text-align: center;}#sk-container-id-1 label.sk-toggleable__label-arrow:before {content: \"▸\";float: left;margin-right: 0.25em;color: #696969;}#sk-container-id-1 label.sk-toggleable__label-arrow:hover:before {color: black;}#sk-container-id-1 div.sk-estimator:hover label.sk-toggleable__label-arrow:before {color: black;}#sk-container-id-1 div.sk-toggleable__content {max-height: 0;max-width: 0;overflow: hidden;text-align: left;background-color: #f0f8ff;}#sk-container-id-1 div.sk-toggleable__content pre {margin: 0.2em;color: black;border-radius: 0.25em;background-color: #f0f8ff;}#sk-container-id-1 input.sk-toggleable__control:checked~div.sk-toggleable__content {max-height: 200px;max-width: 100%;overflow: auto;}#sk-container-id-1 input.sk-toggleable__control:checked~label.sk-toggleable__label-arrow:before {content: \"▾\";}#sk-container-id-1 div.sk-estimator input.sk-toggleable__control:checked~label.sk-toggleable__label {background-color: #d4ebff;}#sk-container-id-1 div.sk-label input.sk-toggleable__control:checked~label.sk-toggleable__label {background-color: #d4ebff;}#sk-container-id-1 input.sk-hidden--visually {border: 0;clip: rect(1px 1px 1px 1px);clip: rect(1px, 1px, 1px, 1px);height: 1px;margin: -1px;overflow: hidden;padding: 0;position: absolute;width: 1px;}#sk-container-id-1 div.sk-estimator {font-family: monospace;background-color: #f0f8ff;border: 1px dotted black;border-radius: 0.25em;box-sizing: border-box;margin-bottom: 0.5em;}#sk-container-id-1 div.sk-estimator:hover {background-color: #d4ebff;}#sk-container-id-1 div.sk-parallel-item::after {content: \"\";width: 100%;border-bottom: 1px solid gray;flex-grow: 1;}#sk-container-id-1 div.sk-label:hover label.sk-toggleable__label {background-color: #d4ebff;}#sk-container-id-1 div.sk-serial::before {content: \"\";position: absolute;border-left: 1px solid gray;box-sizing: border-box;top: 0;bottom: 0;left: 50%;z-index: 0;}#sk-container-id-1 div.sk-serial {display: flex;flex-direction: column;align-items: center;background-color: white;padding-right: 0.2em;padding-left: 0.2em;position: relative;}#sk-container-id-1 div.sk-item {position: relative;z-index: 1;}#sk-container-id-1 div.sk-parallel {display: flex;align-items: stretch;justify-content: center;background-color: white;position: relative;}#sk-container-id-1 div.sk-item::before, #sk-container-id-1 div.sk-parallel-item::before {content: \"\";position: absolute;border-left: 1px solid gray;box-sizing: border-box;top: 0;bottom: 0;left: 50%;z-index: -1;}#sk-container-id-1 div.sk-parallel-item {display: flex;flex-direction: column;z-index: 1;position: relative;background-color: white;}#sk-container-id-1 div.sk-parallel-item:first-child::after {align-self: flex-end;width: 50%;}#sk-container-id-1 div.sk-parallel-item:last-child::after {align-self: flex-start;width: 50%;}#sk-container-id-1 div.sk-parallel-item:only-child::after {width: 0;}#sk-container-id-1 div.sk-dashed-wrapped {border: 1px dashed gray;margin: 0 0.4em 0.5em 0.4em;box-sizing: border-box;padding-bottom: 0.4em;background-color: white;}#sk-container-id-1 div.sk-label label {font-family: monospace;font-weight: bold;display: inline-block;line-height: 1.2em;}#sk-container-id-1 div.sk-label-container {text-align: center;}#sk-container-id-1 div.sk-container {/* jupyter's `normalize.less` sets `[hidden] { display: none; }` but bootstrap.min.css set `[hidden] { display: none !important; }` so we also need the `!important` here to be able to override the default hidden behavior on the sphinx rendered scikit-learn.org. See: https://github.com/scikit-learn/scikit-learn/issues/21755 */display: inline-block !important;position: relative;}#sk-container-id-1 div.sk-text-repr-fallback {display: none;}</style><div id=\"sk-container-id-1\" class=\"sk-top-container\"><div class=\"sk-text-repr-fallback\"><pre>LinearRegression()</pre><b>In a Jupyter environment, please rerun this cell to show the HTML representation or trust the notebook. <br />On GitHub, the HTML representation is unable to render, please try loading this page with nbviewer.org.</b></div><div class=\"sk-container\" hidden><div class=\"sk-item\"><div class=\"sk-estimator sk-toggleable\"><input class=\"sk-toggleable__control sk-hidden--visually\" id=\"sk-estimator-id-1\" type=\"checkbox\" checked><label for=\"sk-estimator-id-1\" class=\"sk-toggleable__label sk-toggleable__label-arrow\">LinearRegression</label><div class=\"sk-toggleable__content\"><pre>LinearRegression()</pre></div></div></div></div></div>"
      ],
      "text/plain": [
       "LinearRegression()"
      ]
     },
     "execution_count": 35,
     "metadata": {},
     "output_type": "execute_result"
    }
   ],
   "source": [
    "# Fit the regression object onto the training set.\n",
    "\n",
    "regression.fit(X_train, y_train)"
   ]
  },
  {
   "cell_type": "code",
   "execution_count": 36,
   "id": "8c5f3ccc",
   "metadata": {},
   "outputs": [],
   "source": [
    "# Predict the values of y using X.\n",
    "\n",
    "y_predicted = regression.predict(X_test)"
   ]
  },
  {
   "cell_type": "code",
   "execution_count": 45,
   "id": "5d694755",
   "metadata": {},
   "outputs": [
    {
     "data": {
      "image/png": "[encoded data removed]",
      "text/plain": [
       "<Figure size 640x480 with 1 Axes>"
      ]
     },
     "metadata": {},
     "output_type": "display_data"
    }
   ],
   "source": [
    "# Create a plot that shows the regression line from the model on the test set.\n",
    "\n",
    "plot_test = plt\n",
    "plot_test.scatter(X_test, y_test, color='gray', s = 15)\n",
    "plot_test.plot(X_test, y_predicted, color='red', linewidth =3)\n",
    "plot_test.title('Square_Feet vs Price (Test set)')\n",
    "plot_test.xlabel('Square_Feet')\n",
    "plot_test.ylabel('Price')\n",
    "plot_test.show()\n"
   ]
  },
  {
   "cell_type": "code",
   "execution_count": 46,
   "id": "236d3f9b",
   "metadata": {},
   "outputs": [
    {
     "data": {
      "text/plain": [
       "<Figure size 640x480 with 0 Axes>"
      ]
     },
     "metadata": {},
     "output_type": "display_data"
    }
   ],
   "source": [
    "plt.savefig('regression line.png')"
   ]
  },
  {
   "cell_type": "markdown",
   "id": "51849ff2",
   "metadata": {},
   "source": [
    "## The data points are not clustered together and closed to the line. This shows that there is no direct relationship between the square feet and price. "
   ]
  },
  {
   "cell_type": "code",
   "execution_count": 47,
   "id": "80536b44",
   "metadata": {},
   "outputs": [],
   "source": [
    "# Create objects that contain the model summary statistics.\n",
    "\n",
    "rmse = mean_squared_error(y_test, y_predicted) # This is the mean squared error\n",
    "r2 = r2_score(y_test, y_predicted) # This is the R2 score. "
   ]
  },
  {
   "cell_type": "code",
   "execution_count": 48,
   "id": "7028642e",
   "metadata": {},
   "outputs": [
    {
     "name": "stdout",
     "output_type": "stream",
     "text": [
      "Slope: [[0.09992332]]\n",
      "Mean squared error:  19217.56406718577\n",
      "R2 score:  -0.14599072121936407\n"
     ]
    }
   ],
   "source": [
    "# Print the model summary statistics. This is where you evaluate the performance of the model.\n",
    "\n",
    "print('Slope:' ,regression.coef_)\n",
    "print('Mean squared error: ', rmse)\n",
    "print('R2 score: ', r2)"
   ]
  },
  {
   "cell_type": "code",
   "execution_count": 49,
   "id": "8b42a673",
   "metadata": {},
   "outputs": [
    {
     "data": {
      "text/plain": [
       "array([[766.86075263],\n",
       "       [756.86842055],\n",
       "       [777.8523179 ],\n",
       "       [768.35960244],\n",
       "       [746.87608848],\n",
       "       [801.83391488],\n",
       "       [776.8530847 ],\n",
       "       [771.95684198],\n",
       "       [776.8530847 ],\n",
       "       [742.27961573],\n",
       "       [756.86842055],\n",
       "       [739.38183943],\n",
       "       [737.08360305],\n",
       "       [733.68621015],\n",
       "       [771.85691866],\n",
       "       [789.34349979],\n",
       "       [764.86228621],\n",
       "       [762.8638198 ],\n",
       "       [737.88298962],\n",
       "       [799.0360619 ],\n",
       "       [806.83008091],\n",
       "       [774.85461828],\n",
       "       [766.86075263],\n",
       "       [736.88375641]])"
      ]
     },
     "execution_count": 49,
     "metadata": {},
     "output_type": "execute_result"
    }
   ],
   "source": [
    "y_predicted"
   ]
  },
  {
   "cell_type": "code",
   "execution_count": 50,
   "id": "ab65249d",
   "metadata": {},
   "outputs": [
    {
     "data": {
      "text/html": [
       "<div>\n",
       "<style scoped>\n",
       "    .dataframe tbody tr th:only-of-type {\n",
       "        vertical-align: middle;\n",
       "    }\n",
       "\n",
       "    .dataframe tbody tr th {\n",
       "        vertical-align: top;\n",
       "    }\n",
       "\n",
       "    .dataframe thead th {\n",
       "        text-align: right;\n",
       "    }\n",
       "</style>\n",
       "<table border=\"1\" class=\"dataframe\">\n",
       "  <thead>\n",
       "    <tr style=\"text-align: right;\">\n",
       "      <th></th>\n",
       "      <th>Actual</th>\n",
       "      <th>Predicted</th>\n",
       "    </tr>\n",
       "  </thead>\n",
       "  <tbody>\n",
       "    <tr>\n",
       "      <th>0</th>\n",
       "      <td>850</td>\n",
       "      <td>766.860753</td>\n",
       "    </tr>\n",
       "    <tr>\n",
       "      <th>1</th>\n",
       "      <td>700</td>\n",
       "      <td>756.868421</td>\n",
       "    </tr>\n",
       "    <tr>\n",
       "      <th>2</th>\n",
       "      <td>725</td>\n",
       "      <td>777.852318</td>\n",
       "    </tr>\n",
       "    <tr>\n",
       "      <th>3</th>\n",
       "      <td>979</td>\n",
       "      <td>768.359602</td>\n",
       "    </tr>\n",
       "    <tr>\n",
       "      <th>4</th>\n",
       "      <td>819</td>\n",
       "      <td>746.876088</td>\n",
       "    </tr>\n",
       "    <tr>\n",
       "      <th>5</th>\n",
       "      <td>960</td>\n",
       "      <td>801.833915</td>\n",
       "    </tr>\n",
       "    <tr>\n",
       "      <th>6</th>\n",
       "      <td>925</td>\n",
       "      <td>776.853085</td>\n",
       "    </tr>\n",
       "    <tr>\n",
       "      <th>7</th>\n",
       "      <td>945</td>\n",
       "      <td>771.956842</td>\n",
       "    </tr>\n",
       "    <tr>\n",
       "      <th>8</th>\n",
       "      <td>845</td>\n",
       "      <td>776.853085</td>\n",
       "    </tr>\n",
       "    <tr>\n",
       "      <th>9</th>\n",
       "      <td>950</td>\n",
       "      <td>742.279616</td>\n",
       "    </tr>\n",
       "    <tr>\n",
       "      <th>10</th>\n",
       "      <td>795</td>\n",
       "      <td>756.868421</td>\n",
       "    </tr>\n",
       "    <tr>\n",
       "      <th>11</th>\n",
       "      <td>925</td>\n",
       "      <td>739.381839</td>\n",
       "    </tr>\n",
       "    <tr>\n",
       "      <th>12</th>\n",
       "      <td>550</td>\n",
       "      <td>737.083603</td>\n",
       "    </tr>\n",
       "    <tr>\n",
       "      <th>13</th>\n",
       "      <td>965</td>\n",
       "      <td>733.686210</td>\n",
       "    </tr>\n",
       "    <tr>\n",
       "      <th>14</th>\n",
       "      <td>850</td>\n",
       "      <td>771.856919</td>\n",
       "    </tr>\n",
       "    <tr>\n",
       "      <th>15</th>\n",
       "      <td>740</td>\n",
       "      <td>789.343500</td>\n",
       "    </tr>\n",
       "    <tr>\n",
       "      <th>16</th>\n",
       "      <td>575</td>\n",
       "      <td>764.862286</td>\n",
       "    </tr>\n",
       "    <tr>\n",
       "      <th>17</th>\n",
       "      <td>678</td>\n",
       "      <td>762.863820</td>\n",
       "    </tr>\n",
       "    <tr>\n",
       "      <th>18</th>\n",
       "      <td>595</td>\n",
       "      <td>737.882990</td>\n",
       "    </tr>\n",
       "    <tr>\n",
       "      <th>19</th>\n",
       "      <td>700</td>\n",
       "      <td>799.036062</td>\n",
       "    </tr>\n",
       "    <tr>\n",
       "      <th>20</th>\n",
       "      <td>795</td>\n",
       "      <td>806.830081</td>\n",
       "    </tr>\n",
       "    <tr>\n",
       "      <th>21</th>\n",
       "      <td>780</td>\n",
       "      <td>774.854618</td>\n",
       "    </tr>\n",
       "    <tr>\n",
       "      <th>22</th>\n",
       "      <td>795</td>\n",
       "      <td>766.860753</td>\n",
       "    </tr>\n",
       "    <tr>\n",
       "      <th>23</th>\n",
       "      <td>995</td>\n",
       "      <td>736.883756</td>\n",
       "    </tr>\n",
       "  </tbody>\n",
       "</table>\n",
       "</div>"
      ],
      "text/plain": [
       "    Actual   Predicted\n",
       "0      850  766.860753\n",
       "1      700  756.868421\n",
       "2      725  777.852318\n",
       "3      979  768.359602\n",
       "4      819  746.876088\n",
       "5      960  801.833915\n",
       "6      925  776.853085\n",
       "7      945  771.956842\n",
       "8      845  776.853085\n",
       "9      950  742.279616\n",
       "10     795  756.868421\n",
       "11     925  739.381839\n",
       "12     550  737.083603\n",
       "13     965  733.686210\n",
       "14     850  771.856919\n",
       "15     740  789.343500\n",
       "16     575  764.862286\n",
       "17     678  762.863820\n",
       "18     595  737.882990\n",
       "19     700  799.036062\n",
       "20     795  806.830081\n",
       "21     780  774.854618\n",
       "22     795  766.860753\n",
       "23     995  736.883756"
      ]
     },
     "execution_count": 50,
     "metadata": {},
     "output_type": "execute_result"
    }
   ],
   "source": [
    "# Create a dataframe comparing the actual and predicted values of y.\n",
    "\n",
    "data = pd.DataFrame({'Actual': y_test.flatten(), 'Predicted': y_predicted.flatten()})\n",
    "data.head(30)"
   ]
  },
  {
   "cell_type": "markdown",
   "id": "f75f5fd4",
   "metadata": {},
   "source": [
    "#Compare how the regression fits the training set"
   ]
  },
  {
   "cell_type": "code",
   "execution_count": 51,
   "id": "6a62dd76",
   "metadata": {},
   "outputs": [],
   "source": [
    "# Predict.\n",
    "\n",
    "y_predicted_train = regression.predict(X_train) # This is predicting X_train!"
   ]
  },
  {
   "cell_type": "code",
   "execution_count": 52,
   "id": "21bb6e1a",
   "metadata": {},
   "outputs": [],
   "source": [
    "rmse = mean_squared_error(y_train, y_predicted_train)\n",
    "r2 = r2_score(y_train, y_predicted_train)"
   ]
  },
  {
   "cell_type": "code",
   "execution_count": 53,
   "id": "ab7d6b0a",
   "metadata": {},
   "outputs": [
    {
     "name": "stdout",
     "output_type": "stream",
     "text": [
      "Slope: [[0.09992332]]\n",
      "Mean squared error:  16947.455954341403\n",
      "R2 score:  0.03476371019439173\n"
     ]
    }
   ],
   "source": [
    "print('Slope:' ,regression.coef_)\n",
    "print('Mean squared error: ', rmse)\n",
    "print('R2 score: ', r2)"
   ]
  },
  {
   "cell_type": "code",
   "execution_count": 54,
   "id": "550892b9",
   "metadata": {},
   "outputs": [
    {
     "data": {
      "image/png": "[encoded data removed]",
      "text/plain": [
       "<Figure size 640x480 with 1 Axes>"
      ]
     },
     "metadata": {},
     "output_type": "display_data"
    }
   ],
   "source": [
    "# Visualizing the training set results.\n",
    "\n",
    "plot_test = plt\n",
    "plot_test.scatter(X_train, y_train, color='green', s = 15)\n",
    "plot_test.plot(X_train, y_predicted_train, color='red', linewidth =3)\n",
    "plot_test.title('Square Feet vs Price (Train set)')\n",
    "plot_test.xlabel('Square Feet')\n",
    "plot_test.ylabel('Price')\n",
    "plot_test.show()"
   ]
  },
  {
   "cell_type": "code",
   "execution_count": null,
   "id": "aab4d3e2",
   "metadata": {},
   "outputs": [],
   "source": []
  },
  {
   "cell_type": "raw",
   "id": "984b0dbf",
   "metadata": {},
   "source": [
    "# The above visualizations show that the dots are not close to the line and are quite sparse. When X raises Y also drops at a slope of 0.09. Basically, the fact that the size of an apartment or house is bigger doesn't mean that the price is raising. So, there is no aparent correlation between an apartment size and its price. "
   ]
  },
  {
   "cell_type": "markdown",
   "id": "d56f112b",
   "metadata": {},
   "source": [
    "## By looking at the MSE (Mean squared error) and R2 score values we can say that the model isn't performing well. By looking at the actual and predicted values of y we have the confirmation that the model is not doing a good job of explaining the relationship between the size of an apartment/house (square feet) and price. The relationship doesn't follow a simple, straight regression line. "
   ]
  },
  {
   "cell_type": "code",
   "execution_count": null,
   "id": "3b59781d",
   "metadata": {},
   "outputs": [],
   "source": [
    "g.savefig(\"out.png\")"
   ]
  },
  {
   "cell_type": "code",
   "execution_count": null,
   "id": "50a8c19c",
   "metadata": {},
   "outputs": [],
   "source": []
  },
  {
   "cell_type": "code",
   "execution_count": null,
   "id": "6f1632aa",
   "metadata": {},
   "outputs": [],
   "source": []
  },
  {
   "cell_type": "code",
   "execution_count": null,
   "id": "ce1ba5f4",
   "metadata": {},
   "outputs": [],
   "source": []
  },
  {
   "cell_type": "code",
   "execution_count": null,
   "id": "b888722f",
   "metadata": {},
   "outputs": [],
   "source": []
  },
  {
   "cell_type": "code",
   "execution_count": null,
   "id": "dfd5bb08",
   "metadata": {},
   "outputs": [],
   "source": []
  },
  {
   "cell_type": "code",
   "execution_count": null,
   "id": "7eef0570",
   "metadata": {},
   "outputs": [],
   "source": []
  },
  {
   "cell_type": "code",
   "execution_count": null,
   "id": "23405a7d",
   "metadata": {},
   "outputs": [],
   "source": []
  },
  {
   "cell_type": "code",
   "execution_count": null,
   "id": "00029343",
   "metadata": {},
   "outputs": [],
   "source": []
  },
  {
   "cell_type": "code",
   "execution_count": null,
   "id": "719cce54",
   "metadata": {},
   "outputs": [],
   "source": []
  },
  {
   "cell_type": "code",
   "execution_count": null,
   "id": "41715fed",
   "metadata": {},
   "outputs": [],
   "source": []
  },
  {
   "cell_type": "code",
   "execution_count": null,
   "id": "3249fe3f",
   "metadata": {},
   "outputs": [],
   "source": []
  },
  {
   "cell_type": "code",
   "execution_count": null,
   "id": "34411e97",
   "metadata": {},
   "outputs": [],
   "source": []
  }
 ],
 "metadata": {
  "kernelspec": {
   "display_name": "Python 3 (ipykernel)",
   "language": "python",
   "name": "python3"
  },
  "language_info": {
   "codemirror_mode": {
    "name": "ipython",
    "version": 3
   },
   "file_extension": ".py",
   "mimetype": "text/x-python",
   "name": "python",
   "nbconvert_exporter": "python",
   "pygments_lexer": "ipython3",
   "version": "3.11.3"
  }
 },
 "nbformat": 4,
 "nbformat_minor": 5
}
